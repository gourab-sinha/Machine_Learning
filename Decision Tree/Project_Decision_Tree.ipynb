{
  "nbformat": 4,
  "nbformat_minor": 0,
  "metadata": {
    "colab": {
      "name": "Project Decision Tree.ipynb",
      "provenance": [],
      "collapsed_sections": [],
      "authorship_tag": "ABX9TyOOcYvFYi6+HQwWqFgk/LnG",
      "include_colab_link": true
    },
    "kernelspec": {
      "name": "python3",
      "display_name": "Python 3"
    }
  },
  "cells": [
    {
      "cell_type": "markdown",
      "metadata": {
        "id": "view-in-github",
        "colab_type": "text"
      },
      "source": [
        "<a href=\"https://colab.research.google.com/github/gourab-sinha/Machine_Learning/blob/master/Decision%20Tree/Project_Decision_Tree.ipynb\" target=\"_parent\"><img src=\"https://colab.research.google.com/assets/colab-badge.svg\" alt=\"Open In Colab\"/></a>"
      ]
    },
    {
      "cell_type": "code",
      "metadata": {
        "id": "PGJgkzAOXh-0",
        "colab_type": "code",
        "colab": {}
      },
      "source": [
        "from sklearn import datasets\n",
        "import pandas as pd\n",
        "import numpy as np\n",
        "import math"
      ],
      "execution_count": 0,
      "outputs": []
    },
    {
      "cell_type": "code",
      "metadata": {
        "id": "M3TKbEmj0AJr",
        "colab_type": "code",
        "colab": {}
      },
      "source": [
        "class DecisionTree:\n",
        "  def __information_req(self,X,Y):\n",
        "    isCategorical = True\n",
        "    if(X.dtype.name=='int64' or X.dtype.name=='float64'):\n",
        "      isCategorical = False\n",
        "    \n",
        "    if isCategorical:\n",
        "      categories = set(X)\n",
        "      info_req = 0\n",
        "      overall_total = len(Y)\n",
        "      for category in categories:\n",
        "        indices = X[X[0]==category].index\n",
        "        Y_selected = Y[indices]\n",
        "        types = dict(Y_selected.value_counts().items())\n",
        "        total = len(Y_selected)\n",
        "        node_entropy = 0\n",
        "        for cat,val in types.items():\n",
        "          node_entropy+= (val/total)*math.log2(val/total)\n",
        "        \n",
        "        node_entropy = (-1)*node_entropy\n",
        "\n",
        "        info_req+= (total/overall_total)*node_entropy\n",
        "      \n",
        "      return info_req\n",
        "\n",
        "\n",
        "      \n",
        "\n",
        "\n",
        "  def __gain(self,X,Y,feature):\n",
        "    types = dict(Y.value_counts().items())\n",
        "    total = len(Y)\n",
        "    node_entropy = 0\n",
        "    for cat,val in types.items():\n",
        "      node_entropy += (val/total)*math.log2(val/total)\n",
        "    \n",
        "    node_entropy = (-1)*node_entropy\n",
        "\n",
        "    info_req = self.__information_req(X[feature],Y)\n",
        "\n",
        "    \n",
        "\n",
        "  def decision_tree(self,X,Y, features,level):  \n",
        "    types = dict(Y.value_counts().items())\n",
        "    if len(features)==0 or len(types)==1:\n",
        "      print(\"Level \",level)\n",
        "      for cat,val in types.items():\n",
        "        print(\"Count of \",cat,val)\n",
        "      print(\"Current Entropy is \", 0)\n",
        "      print(\"Reached leaf Node\")\n",
        "    \n",
        "    selected_feature = \"\"\n",
        "    max_gain = -1\n",
        "    for feature in features:\n",
        "      current_gain = self.__gain(X,Y,feature)\n",
        "      if max_gain<current_gain:\n",
        "        selected_feature = feature\n",
        "        max_gain = current_gain\n",
        "    \n",
        "    # recursive call\n",
        "\n",
        "\n",
        "\n",
        "\n",
        "\n",
        "# Level  0\n",
        "# Count of  0(False)  =  1\n",
        "# Count of  1(True)  =  3\n",
        "# Current Entropy  is =  0.811278124459\n",
        "# Splitting on feature  X1  with gain ratio  0.311278124459\n",
        "\n"
      ],
      "execution_count": 0,
      "outputs": []
    },
    {
      "cell_type": "code",
      "metadata": {
        "id": "NnCD1FSR-d9_",
        "colab_type": "code",
        "colab": {
          "base_uri": "https://localhost:8080/",
          "height": 173
        },
        "outputId": "4f3e41bb-1534-47ae-adb4-6aa33478833c"
      },
      "source": [
        "# importing pandas as pd \n",
        "import pandas as pd \n",
        "\n",
        "# Creating the index \n",
        "idx = pd.DataFrame([4.5, 3.01, 2.0, 1.0], columns =['Type'])\n",
        "\n",
        "# Print the Index \n",
        "idx"
      ],
      "execution_count": 44,
      "outputs": [
        {
          "output_type": "execute_result",
          "data": {
            "text/html": [
              "<div>\n",
              "<style scoped>\n",
              "    .dataframe tbody tr th:only-of-type {\n",
              "        vertical-align: middle;\n",
              "    }\n",
              "\n",
              "    .dataframe tbody tr th {\n",
              "        vertical-align: top;\n",
              "    }\n",
              "\n",
              "    .dataframe thead th {\n",
              "        text-align: right;\n",
              "    }\n",
              "</style>\n",
              "<table border=\"1\" class=\"dataframe\">\n",
              "  <thead>\n",
              "    <tr style=\"text-align: right;\">\n",
              "      <th></th>\n",
              "      <th>Type</th>\n",
              "    </tr>\n",
              "  </thead>\n",
              "  <tbody>\n",
              "    <tr>\n",
              "      <th>0</th>\n",
              "      <td>4.50</td>\n",
              "    </tr>\n",
              "    <tr>\n",
              "      <th>1</th>\n",
              "      <td>3.01</td>\n",
              "    </tr>\n",
              "    <tr>\n",
              "      <th>2</th>\n",
              "      <td>2.00</td>\n",
              "    </tr>\n",
              "    <tr>\n",
              "      <th>3</th>\n",
              "      <td>1.00</td>\n",
              "    </tr>\n",
              "  </tbody>\n",
              "</table>\n",
              "</div>"
            ],
            "text/plain": [
              "   Type\n",
              "0  4.50\n",
              "1  3.01\n",
              "2  2.00\n",
              "3  1.00"
            ]
          },
          "metadata": {
            "tags": []
          },
          "execution_count": 44
        }
      ]
    },
    {
      "cell_type": "code",
      "metadata": {
        "id": "HL8MVhvSHynH",
        "colab_type": "code",
        "colab": {
          "base_uri": "https://localhost:8080/",
          "height": 34
        },
        "outputId": "f3270be3-fc58-451b-c57c-2a119af6c89f"
      },
      "source": [
        "idx['Type'].dtype.name"
      ],
      "execution_count": 45,
      "outputs": [
        {
          "output_type": "execute_result",
          "data": {
            "text/plain": [
              "'float64'"
            ]
          },
          "metadata": {
            "tags": []
          },
          "execution_count": 45
        }
      ]
    }
  ]
}