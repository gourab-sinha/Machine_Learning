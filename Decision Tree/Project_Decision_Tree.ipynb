{
  "nbformat": 4,
  "nbformat_minor": 0,
  "metadata": {
    "colab": {
      "name": "Project Decision Tree.ipynb",
      "provenance": [],
      "collapsed_sections": [],
      "authorship_tag": "ABX9TyPLII9yotSVyMXnBxUL6bGi",
      "include_colab_link": true
    },
    "kernelspec": {
      "name": "python3",
      "display_name": "Python 3"
    }
  },
  "cells": [
    {
      "cell_type": "markdown",
      "metadata": {
        "id": "view-in-github",
        "colab_type": "text"
      },
      "source": [
        "<a href=\"https://colab.research.google.com/github/gourab-sinha/Machine_Learning/blob/master/Decision%20Tree/Project_Decision_Tree.ipynb\" target=\"_parent\"><img src=\"https://colab.research.google.com/assets/colab-badge.svg\" alt=\"Open In Colab\"/></a>"
      ]
    },
    {
      "cell_type": "code",
      "metadata": {
        "id": "PGJgkzAOXh-0",
        "colab_type": "code",
        "colab": {}
      },
      "source": [
        "from sklearn import datasets\n",
        "import pandas as pd\n",
        "import numpy as np\n",
        "import math"
      ],
      "execution_count": 0,
      "outputs": []
    },
    {
      "cell_type": "code",
      "metadata": {
        "id": "M3TKbEmj0AJr",
        "colab_type": "code",
        "colab": {}
      },
      "source": [
        "\n",
        "class DecisionTree:\n",
        "  classes = ['setosa', 'versicolor', 'virginica']\n",
        "  \n",
        "  \n",
        "  # Information gain\n",
        "  def __information_gain(self,X,Y,targets,feature):\n",
        "    X_new = X[feature].values\n",
        "    X_new.sort()\n",
        "    # print(X_new,len(X_new))\n",
        "    total = Y.shape[0]\n",
        "    total_setosa =  Y[Y[targets]==0].shape[0]\n",
        "    total_versicolor = Y[Y[targets]==1].shape[0]\n",
        "    total_virginica = Y[Y[targets]==2].shape[0]\n",
        "    level_entropy = -((total_setosa/total)*math.log2(total_setosa/total) + \n",
        "                      (total_versicolor/total)*math.log2(total_versicolor/total) + \n",
        "                      (total_versicolor/total)*math.log2(total_versicolor/total))\n",
        "    \n",
        "    max_info_gain = 0\n",
        "    level_threshold = 0\n",
        "    max_gain_ratio = 0\n",
        "    for i in range(1,len(X_new)):\n",
        "      # Define threshold \n",
        "      threshold = (X_new[i-1]+X_new[i])/2\n",
        "      # print(threshold)\n",
        "      # Data points below or equal to threshold\n",
        "      X_below_threshold = X[X[feature]<threshold]\n",
        "\n",
        "      # Data points above threshold \n",
        "      X_above_threshold = X[X[feature]>=threshold]\n",
        "\n",
        "\n",
        "      # Data points below and above\n",
        "      total_below = X_below_threshold.shape[0]\n",
        "      total_above = X_above_threshold.shape[0]\n",
        "      # print(total_below,total_above)\n",
        "\n",
        "      info_required_below = 0\n",
        "      if total_below>0:\n",
        "        # Indices of target values for below threshold\n",
        "        Y_index_below_threshold = X[X[feature]<threshold].index\n",
        "\n",
        "        # Targets below threshold\n",
        "        Y_below = Y.iloc[Y_index_below_threshold]\n",
        "\n",
        "        # Below or equal threshold\n",
        "        total_setosa_below = Y_below[Y_below[targets]==0].shape[0]\n",
        "        total_versicolor_below = Y_below[Y_below[targets]==1].shape[0]\n",
        "        total_virginica_below = Y_below[Y_below[targets]==2].shape[0]\n",
        "        # print(total_setosa_below,total_versicolor_below,total_virginica_below)\n",
        "\n",
        "        info_required_below = 0\n",
        "        # Information required below threshold\n",
        "        if total_setosa_below>0:\n",
        "          info_required_below += (total_setosa_below/total_below)*math.log2(total_setosa_below/total_below)\n",
        "        if total_versicolor_below>0:\n",
        "          info_required_below += (total_versicolor_below/total_below)*math.log2(total_versicolor_below/total_below)\n",
        "        if total_virginica_below>0:\n",
        "          info_required_below += (total_virginica_below/total_below)*math.log2(total_virginica_below/total_below)\n",
        "        \n",
        "        info_required_below = -info_required_below\n",
        "      \n",
        "      info_required_above = 0\n",
        "      if total_above>0:\n",
        "        # Indices of target values for above threshold\n",
        "        Y_index_above_threshold = X[X[feature]>=threshold].index\n",
        "\n",
        "        # Targets above threshold\n",
        "        Y_above = Y.iloc[Y_index_above_threshold]\n",
        "\n",
        "        # Above Threshold\n",
        "        total_setosa_above = Y_above[Y_above[targets]==0].shape[0]\n",
        "        total_versicolor_above = Y_above[Y_above[targets]==1].shape[0]\n",
        "        total_virginica_above = Y_above[Y_above[targets]==2].shape[0]\n",
        "\n",
        "        info_required_above = 0\n",
        "        # Information required above threshold\n",
        "        if total_setosa_above>0:\n",
        "          info_required_above += (total_setosa_above/total_above)*math.log2(total_setosa_above/total_above)\n",
        "        if total_versicolor_above>0:\n",
        "          info_required_above += (total_versicolor_above/total_above)*math.log2(total_versicolor_above/total_above)\n",
        "        if total_virginica_above>0:\n",
        "          info_required_above += (total_virginica_above/total_above)*math.log2(total_virginica_above/total_above)\n",
        "        \n",
        "        info_required_above = -info_required_above\n",
        "\n",
        "      \n",
        "      \n",
        "      # Information required\n",
        "      info_require = (total_below/total)*info_required_below + (total_above/total)*info_required_above\n",
        "\n",
        "      # Current gain\n",
        "      current_info_gain = level_entropy - info_require\n",
        "\n",
        "      # Split Information\n",
        "      current_split_info = 0 \n",
        "      if total_below>0:\n",
        "        current_split_info += (total_below/total)*math.log2(total_below/total)\n",
        "      if total_above>0:\n",
        "        current_split_info += (total_above/total)*math.log2(total_above/total)\n",
        "      \n",
        "      current_split_info = -current_split_info\n",
        "\n",
        "      # Current Gain Ratio \n",
        "      current_gain_ratio = 0\n",
        "      if current_split_info>0:\n",
        "        current_gain_ratio = current_info_gain/current_split_info\n",
        "      # Check with previous Max Gain Ratio\n",
        "      if max_gain_ratio <= current_gain_ratio :\n",
        "        level_threshold = threshold\n",
        "        max_info_gain  = current_info_gain\n",
        "        max_gain_ratio = current_gain_ratio\n",
        "\n",
        "    \n",
        "    return max_info_gain, max_gain_ratio, level_entropy, level_threshold\n",
        "\n",
        "\n",
        "\n",
        "\n",
        "  # Decision Tree \n",
        "  def decision_tree(self,X,Y, features,level,targets):  \n",
        "    types = dict(Y[targets].value_counts().items())\n",
        "    # print(len(types),len(features))\n",
        "    if len(features)==0 or len(types)==1:\n",
        "      print(\"Level \",level)\n",
        "      for cat,val in types.items():\n",
        "        print(\"Count of \",cat,val)\n",
        "      print(\"Current Entropy is \", 0)\n",
        "      print(\"Reached leaf Node\")\n",
        "      return \n",
        "    \n",
        "    selected_feature = \"\"\n",
        "    max_info_gain = 0\n",
        "    level_gain_ratio = 0\n",
        "    level_entropy = 0\n",
        "    level_threshold = -1 # for continuous\n",
        "    for feature in features:\n",
        "      gain, gain_ratio, entropy, threshold = self.__information_gain(X,Y,targets,feature)\n",
        "      if gain_ratio>=level_gain_ratio:\n",
        "        selected_feature = feature\n",
        "        max_gain = gain\n",
        "        level_gain_ratio = gain_ratio \n",
        "        level_entropy = entropy\n",
        "        level_threshold = threshold  \n",
        "\n",
        "    # print(level_threshold)\n",
        "    # return\n",
        "    count_with_classes = dict(Y[targets].value_counts().items())\n",
        "    print(\"Level \", level)\n",
        "    for key,val in count_with_classes.items():\n",
        "      print(\"Count of \"+self.classes[key],val)\n",
        "    print(\"Current Entropy is \",level_entropy)\n",
        "    print(\"Splitting on feature \"+str(selected_feature)+ \" with gain ratio\",level_gain_ratio)\n",
        "    features.remove(selected_feature)\n",
        "\n",
        "\n",
        "    X1 = X[X[selected_feature]<=level_threshold].copy()\n",
        "    X1.index = np.arange(1, len(X1) + 1)\n",
        "    X2 = X[X[selected_feature]>level_threshold].copy()\n",
        "    X2.index = np.arange(1, len(X2) + 1)\n",
        "    Y1_index = X[X[selected_feature]<=level_threshold].index\n",
        "    Y2_index = X[X[selected_feature]>level_threshold].index\n",
        "    Y1 = Y.iloc[Y1_index].copy()\n",
        "    Y1.index = np.arange(1, len(Y1) + 1)\n",
        "    Y2 = Y.iloc[Y2_index].copy()\n",
        "    Y2.index = np.arange(1, len(Y2) + 1)\n",
        "    self.decision_tree(X1,Y1,features,level+1,targets)\n",
        "    self.decision_tree(X2,Y2,features,level+1,targets)\n",
        "    \n",
        "    # else:\n",
        "    #   different_val_on_selected_feature = set(X[selected_feature].values)\n",
        "    #   for val in different_val_on_selected_feature:\n",
        "    #     X_new = X[X[selected_feature]==val]\n",
        "    #     Y_new_index = X[X[selected_feature]==val].index\n",
        "    #     Y_new = Y.iloc[Y_new_index]\n",
        "    #     self.decision_tree(X_new,Y_new,features,level+1,targets)\n",
        "\n",
        "# \"\"\"\n",
        "# Level  0\n",
        "# Count of  0(False)  =  1\n",
        "# Count of  1(True)  =  3\n",
        "# Current Entropy  is =  0.811278124459\n",
        "# Splitting on feature  X1  with gain ratio  0.311278124459\n",
        "# \"\"\""
      ],
      "execution_count": 0,
      "outputs": []
    },
    {
      "cell_type": "code",
      "metadata": {
        "id": "HL8MVhvSHynH",
        "colab_type": "code",
        "outputId": "09544d31-1cd8-45ea-a773-eda2b00ac3be",
        "colab": {
          "base_uri": "https://localhost:8080/",
          "height": 34
        }
      },
      "source": [
        "iris = datasets.load_iris()\n",
        "X = pd.DataFrame(iris.data,columns = iris.feature_names)\n",
        "Y = pd.DataFrame(iris.target,columns = ['target'])\n",
        "features = list(iris.feature_names)\n",
        "print(features)"
      ],
      "execution_count": 143,
      "outputs": [
        {
          "output_type": "stream",
          "text": [
            "['sepal length (cm)', 'sepal width (cm)', 'petal length (cm)', 'petal width (cm)']\n"
          ],
          "name": "stdout"
        }
      ]
    },
    {
      "cell_type": "code",
      "metadata": {
        "id": "QMVPPT8as5bM",
        "colab_type": "code",
        "colab": {}
      },
      "source": [
        "dc_tree = DecisionTree()\n",
        "dc_tree.decision_tree(X,Y,features,0,\"target\")"
      ],
      "execution_count": 0,
      "outputs": []
    },
    {
      "cell_type": "code",
      "metadata": {
        "id": "FwSA3CYpu7n-",
        "colab_type": "code",
        "colab": {
          "base_uri": "https://localhost:8080/",
          "height": 34
        },
        "outputId": "ca7620d2-483c-4e6c-9546-c449f3d06f43"
      },
      "source": [
        "iris.target_names"
      ],
      "execution_count": 24,
      "outputs": [
        {
          "output_type": "execute_result",
          "data": {
            "text/plain": [
              "array(['setosa', 'versicolor', 'virginica'], dtype='<U10')"
            ]
          },
          "metadata": {
            "tags": []
          },
          "execution_count": 24
        }
      ]
    },
    {
      "cell_type": "code",
      "metadata": {
        "id": "uYCSbHp7w7ah",
        "colab_type": "code",
        "colab": {
          "base_uri": "https://localhost:8080/",
          "height": 164
        },
        "outputId": "3f18a39e-43f0-4ce1-9fcd-6d5aee0ddad4"
      },
      "source": [
        "math.log2(0/1)"
      ],
      "execution_count": 109,
      "outputs": [
        {
          "output_type": "error",
          "ename": "ValueError",
          "evalue": "ignored",
          "traceback": [
            "\u001b[0;31m---------------------------------------------------------------------------\u001b[0m",
            "\u001b[0;31mValueError\u001b[0m                                Traceback (most recent call last)",
            "\u001b[0;32m<ipython-input-109-dde1a3faf472>\u001b[0m in \u001b[0;36m<module>\u001b[0;34m()\u001b[0m\n\u001b[0;32m----> 1\u001b[0;31m \u001b[0mmath\u001b[0m\u001b[0;34m.\u001b[0m\u001b[0mlog2\u001b[0m\u001b[0;34m(\u001b[0m\u001b[0;36m0\u001b[0m\u001b[0;34m/\u001b[0m\u001b[0;36m1\u001b[0m\u001b[0;34m)\u001b[0m\u001b[0;34m\u001b[0m\u001b[0;34m\u001b[0m\u001b[0m\n\u001b[0m",
            "\u001b[0;31mValueError\u001b[0m: math domain error"
          ]
        }
      ]
    }
  ]
}