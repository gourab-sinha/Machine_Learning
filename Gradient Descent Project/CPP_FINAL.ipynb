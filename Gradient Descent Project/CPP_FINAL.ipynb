{
  "nbformat": 4,
  "nbformat_minor": 0,
  "metadata": {
    "colab": {
      "name": "CPP_FINAL.ipynb",
      "provenance": [],
      "mount_file_id": "1qrvDbtAJQsX47GFgMV1RiZHjLtVt5inv",
      "authorship_tag": "ABX9TyOAx+j37Hbn+ELkPSWbavT9",
      "include_colab_link": true
    },
    "kernelspec": {
      "name": "python3",
      "display_name": "Python 3"
    }
  },
  "cells": [
    {
      "cell_type": "markdown",
      "metadata": {
        "id": "view-in-github",
        "colab_type": "text"
      },
      "source": [
        "<a href=\"https://colab.research.google.com/github/gourab-sinha/Machine_Learning/blob/master/Gradient%20Descent%20Project/CPP_FINAL.ipynb\" target=\"_parent\"><img src=\"https://colab.research.google.com/assets/colab-badge.svg\" alt=\"Open In Colab\"/></a>"
      ]
    },
    {
      "cell_type": "code",
      "metadata": {
        "id": "bwGmyfvCOJKq",
        "colab_type": "code",
        "colab": {
          "base_uri": "https://localhost:8080/",
          "height": 34
        },
        "outputId": "dcc8238f-ed53-4bdf-c728-3e0e82e55e5e"
      },
      "source": [
        "import numpy as np\n",
        "import pandas as pd\n",
        "\n",
        "# Load training data\n",
        "train_data = pd.read_csv('/content/drive/My Drive/Colab Notebooks/ccpp_x_y_train.csv')\n",
        "\n",
        "#setting the matrixes\n",
        "X = train_data.iloc[:,0:4]\n",
        "ones = np.ones([X.shape[0],1])\n",
        "X = np.concatenate((ones,X),axis=1)\n",
        "\n",
        "y = train_data.iloc[:,4:5].values \n",
        "m_slope = np.zeros([1,5])\n",
        "\n",
        "#computecost\n",
        "def computeCost(X,y,theta):\n",
        "    tobesummed = np.power(((X @ theta.T)-y),2)\n",
        "    return np.sum(tobesummed)/(2 * len(X))\n",
        "\n",
        "def gradientDescent(X,y,theta,iters,alpha):\n",
        "    cost = np.zeros(iters)\n",
        "    for i in range(iters):\n",
        "        theta = theta - (alpha/len(X)) * np.sum(X * (X @ theta.T - y), axis=0)\n",
        "        cost[i] = computeCost(X, y, theta)\n",
        "    \n",
        "    return theta,cost\n",
        "\n",
        "# setting parameters\n",
        "learning_rate = 0.000001\n",
        "iterations = 10000\n",
        "\n",
        "m_slope,cost = gradientDescent(X,y,m_slope,iterations,learning_rate)\n",
        "finalCost = computeCost(X,y,m_slope)\n",
        "print(finalCost)\n"
      ],
      "execution_count": 50,
      "outputs": [
        {
          "output_type": "stream",
          "text": [
            "22.804420164061767\n"
          ],
          "name": "stdout"
        }
      ]
    },
    {
      "cell_type": "code",
      "metadata": {
        "id": "W1htBBYNQsJE",
        "colab_type": "code",
        "colab": {
          "base_uri": "https://localhost:8080/",
          "height": 34
        },
        "outputId": "620b4211-fed2-4334-bf9d-6ea3a7a9c938"
      },
      "source": [
        "test_data = pd.read_csv('/content/drive/My Drive/Colab Notebooks/test_ccpp_x_test.csv')\n",
        "X = test_data.iloc[:,0:4]\n",
        "ones = np.ones([X.shape[0],1])\n",
        "X = np.concatenate((ones,X),axis=1)\n",
        "print(X.shape)"
      ],
      "execution_count": 52,
      "outputs": [
        {
          "output_type": "stream",
          "text": [
            "(2391, 5)\n"
          ],
          "name": "stdout"
        }
      ]
    },
    {
      "cell_type": "code",
      "metadata": {
        "id": "JrYqWLoEUEIM",
        "colab_type": "code",
        "colab": {}
      },
      "source": [
        "Y  = np.zeros(X.shape[0],dtype=float)\n",
        "for i in range(len(Y)):\n",
        "  x = X[i].reshape(1,5)\n",
        "  x = x*m_slope\n",
        "  Y[i] = x.sum()\n",
        "\n",
        "# for i in Y:\n",
        "#   print(i)"
      ],
      "execution_count": 0,
      "outputs": []
    },
    {
      "cell_type": "code",
      "metadata": {
        "id": "4-HzrsoWZ5eW",
        "colab_type": "code",
        "colab": {}
      },
      "source": [
        "y_predict = np.around(Y,decimals=5)\n",
        "np.savetxt(\"Y_Prediction.csv\", y_predict, delimiter=\",\",fmt=\"%.5f\")\n"
      ],
      "execution_count": 0,
      "outputs": []
    }
  ]
}