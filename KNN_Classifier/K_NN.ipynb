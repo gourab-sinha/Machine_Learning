{
  "nbformat": 4,
  "nbformat_minor": 0,
  "metadata": {
    "colab": {
      "name": "K-NN.ipynb",
      "provenance": [],
      "collapsed_sections": [],
      "authorship_tag": "ABX9TyP64hHDnvM9qRCoohoTRcXW",
      "include_colab_link": true
    },
    "kernelspec": {
      "name": "python3",
      "display_name": "Python 3"
    }
  },
  "cells": [
    {
      "cell_type": "markdown",
      "metadata": {
        "id": "view-in-github",
        "colab_type": "text"
      },
      "source": [
        "<a href=\"https://colab.research.google.com/github/gourab-sinha/Machine_Learning/blob/master/KNN_Classifier/K_NN.ipynb\" target=\"_parent\"><img src=\"https://colab.research.google.com/assets/colab-badge.svg\" alt=\"Open In Colab\"/></a>"
      ]
    },
    {
      "cell_type": "markdown",
      "metadata": {
        "id": "Y5R6mt2qHRFM",
        "colab_type": "text"
      },
      "source": [
        "# K Nearest Neighbors Algorithm"
      ]
    },
    {
      "cell_type": "code",
      "metadata": {
        "id": "e5AyznmaHNn0",
        "colab_type": "code",
        "colab": {}
      },
      "source": [
        "from sklearn import datasets\n",
        "from sklearn.model_selection import KFold\n",
        "from sklearn.neighbors import KNeighborsClassifier\n",
        "from sklearn.model_selection import train_test_split\n",
        "from sklearn.model_selection import cross_val_score\n",
        "import matplotlib.pyplot as plt\n",
        "from collections import Counter\n",
        "from sklearn.metrics import confusion_matrix,accuracy_score"
      ],
      "execution_count": 0,
      "outputs": []
    },
    {
      "cell_type": "code",
      "metadata": {
        "id": "XSy-Lh85H07e",
        "colab_type": "code",
        "colab": {}
      },
      "source": [
        "b_cancer = datasets.load_breast_cancer()\n",
        "X_train,X_test,Y_train,Y_test = train_test_split(b_cancer.data,b_cancer.target,test_size=0.25,random_state=1)"
      ],
      "execution_count": 0,
      "outputs": []
    },
    {
      "cell_type": "code",
      "metadata": {
        "id": "BSiaJsTsIJkQ",
        "colab_type": "code",
        "outputId": "f9b13b38-86de-443e-e723-001cc3fce417",
        "colab": {
          "base_uri": "https://localhost:8080/",
          "height": 68
        }
      },
      "source": [
        "knn_classifier = KNeighborsClassifier()\n",
        "knn_classifier.fit(X_train,Y_train)"
      ],
      "execution_count": 3,
      "outputs": [
        {
          "output_type": "execute_result",
          "data": {
            "text/plain": [
              "KNeighborsClassifier(algorithm='auto', leaf_size=30, metric='minkowski',\n",
              "                     metric_params=None, n_jobs=None, n_neighbors=5, p=2,\n",
              "                     weights='uniform')"
            ]
          },
          "metadata": {
            "tags": []
          },
          "execution_count": 3
        }
      ]
    },
    {
      "cell_type": "code",
      "metadata": {
        "id": "NxCPtt5lIbEk",
        "colab_type": "code",
        "outputId": "f6d378b3-3482-463f-c903-d4ec0d3dcb2d",
        "colab": {
          "base_uri": "https://localhost:8080/",
          "height": 34
        }
      },
      "source": [
        "knn_classifier.score(X_test,Y_test)"
      ],
      "execution_count": 4,
      "outputs": [
        {
          "output_type": "execute_result",
          "data": {
            "text/plain": [
              "0.9370629370629371"
            ]
          },
          "metadata": {
            "tags": []
          },
          "execution_count": 4
        }
      ]
    },
    {
      "cell_type": "code",
      "metadata": {
        "id": "nohVTnOhLdYl",
        "colab_type": "code",
        "colab": {}
      },
      "source": [
        "iris = datasets.load_iris()\n",
        "xtrain,xtest,ytrain,ytest = train_test_split(iris.data,iris.target,test_size=0.25)"
      ],
      "execution_count": 0,
      "outputs": []
    },
    {
      "cell_type": "code",
      "metadata": {
        "id": "btcUhkyyLsXU",
        "colab_type": "code",
        "colab": {}
      },
      "source": [
        "from sklearn.linear_model import LinearRegression\n",
        "from sklearn.model_selection import cross_val_score\n",
        "clf = LinearRegression()"
      ],
      "execution_count": 0,
      "outputs": []
    },
    {
      "cell_type": "code",
      "metadata": {
        "id": "-1POso__MAY_",
        "colab_type": "code",
        "outputId": "2f29e5e1-e1dc-44fe-99d9-62be3966ba65",
        "colab": {
          "base_uri": "https://localhost:8080/",
          "height": 34
        }
      },
      "source": [
        "cross_val_score(clf,xtrain,ytrain,cv = KFold(3,True,0))"
      ],
      "execution_count": 0,
      "outputs": [
        {
          "output_type": "execute_result",
          "data": {
            "text/plain": [
              "array([0.89740528, 0.91485845, 0.94075909])"
            ]
          },
          "metadata": {
            "tags": []
          },
          "execution_count": 15
        }
      ]
    },
    {
      "cell_type": "code",
      "metadata": {
        "id": "W9lOn9XjSdBe",
        "colab_type": "code",
        "colab": {
          "base_uri": "https://localhost:8080/",
          "height": 265
        },
        "outputId": "5a0c692b-ae36-4c70-ead1-d546de899719"
      },
      "source": [
        ""
      ],
      "execution_count": 9,
      "outputs": [
        {
          "output_type": "display_data",
          "data": {
            "image/png": "[encoded data removed]",
            "text/plain": [
              "<Figure size 432x288 with 1 Axes>"
            ]
          },
          "metadata": {
            "tags": [],
            "needs_background": "light"
          }
        }
      ]
    },
    {
      "cell_type": "code",
      "metadata": {
        "id": "YlXYprHQYfz5",
        "colab_type": "code",
        "colab": {}
      },
      "source": [
        "class KNNClassifier:\n",
        "\n",
        "  # train function returns the best neighbor number\n",
        "  def train(self,X_train,Y_train):\n",
        "    x_axis = []\n",
        "    y_axis = []\n",
        "    best_accurecy = 0 \n",
        "    k_neighbor = 0\n",
        "    for i in range(1,26,2):\n",
        "      clf = KNeighborsClassifier(n_neighbors=i)\n",
        "      score = cross_val_score(clf,X_train,Y_train)\n",
        "      x_axis.append(i)\n",
        "      y_axis.append(score.mean())\n",
        "      if(best_accurecy<score.mean()):\n",
        "        best_accurency = score.mean()\n",
        "        k_neighbor = i\n",
        "\n",
        "    plt.plot(x_axis,y_axis)\n",
        "    plt.show()\n",
        "    return k_neighbor\n",
        "\n",
        "  # predict the majority neigbor class\n",
        "  def __predict_one(self,X_train,Y_train,X,K):\n",
        "    distance = []\n",
        "    for i in range(len(X_train)):\n",
        "      euclids_distance = ((X_train[i,:] - X)**2).sum()\n",
        "      distance.append([euclids_distance,i])\n",
        "    \n",
        "    distance = sorted(distance)\n",
        "    targets = []\n",
        "    for i in range(K):\n",
        "      index = distance[i][1]\n",
        "      targets.append(Y_train[index])\n",
        "    \n",
        "    return Counter(targets).most_common(1)[0][0]\n",
        "    \n",
        "  # return prediction for all test data points\n",
        "  def predict(self,X_train,Y_train,X_test,K):\n",
        "    Y_predict = []\n",
        "    for X in X_test:\n",
        "      Y = self.__predict_one(X_train,Y_train,X,K)\n",
        "      Y_predict.append(Y)\n",
        "    \n",
        "    return Y_predict"
      ],
      "execution_count": 0,
      "outputs": []
    },
    {
      "cell_type": "code",
      "metadata": {
        "id": "jxfi1pg-bnTa",
        "colab_type": "code",
        "colab": {
          "base_uri": "https://localhost:8080/",
          "height": 282
        },
        "outputId": "56d1e6c6-0495-46c5-9f73-5c22001c1a68"
      },
      "source": [
        "iris = datasets.load_iris()\n",
        "X_train,X_test,Y_train,Y_test = train_test_split(iris.data,iris.target,test_size=0.25)\n",
        "clf = KNNClassifier()\n",
        "K = clf.train(X_train,Y_train)\n",
        "K"
      ],
      "execution_count": 30,
      "outputs": [
        {
          "output_type": "display_data",
          "data": {
            "image/png": "[encoded data removed]",
            "text/plain": [
              "<Figure size 432x288 with 1 Axes>"
            ]
          },
          "metadata": {
            "tags": [],
            "needs_background": "light"
          }
        },
        {
          "output_type": "execute_result",
          "data": {
            "text/plain": [
              "25"
            ]
          },
          "metadata": {
            "tags": []
          },
          "execution_count": 30
        }
      ]
    },
    {
      "cell_type": "code",
      "metadata": {
        "id": "wGMMQWe0b01c",
        "colab_type": "code",
        "colab": {}
      },
      "source": [
        "Y_predict = clf.predict(X_train,Y_train,X_test,K)"
      ],
      "execution_count": 0,
      "outputs": []
    },
    {
      "cell_type": "code",
      "metadata": {
        "id": "B0kNJw8-b7_I",
        "colab_type": "code",
        "colab": {
          "base_uri": "https://localhost:8080/",
          "height": 34
        },
        "outputId": "388bb098-239f-43c6-e587-ea940e40b8c3"
      },
      "source": [
        "print(Y_predict)"
      ],
      "execution_count": 32,
      "outputs": [
        {
          "output_type": "stream",
          "text": [
            "[0, 2, 0, 2, 0, 0, 0, 2, 1, 0, 2, 2, 0, 1, 1, 0, 2, 1, 1, 1, 1, 2, 1, 1, 1, 0, 1, 0, 0, 2, 2, 1, 0, 1, 1, 2, 0, 0]\n"
          ],
          "name": "stdout"
        }
      ]
    },
    {
      "cell_type": "code",
      "metadata": {
        "id": "E5l8wRcVdH_L",
        "colab_type": "code",
        "colab": {
          "base_uri": "https://localhost:8080/",
          "height": 34
        },
        "outputId": "bf433740-e6f9-4fcf-ef7b-584e11968a10"
      },
      "source": [
        "accuracy_score(Y_test,Y_predict)"
      ],
      "execution_count": 33,
      "outputs": [
        {
          "output_type": "execute_result",
          "data": {
            "text/plain": [
              "1.0"
            ]
          },
          "metadata": {
            "tags": []
          },
          "execution_count": 33
        }
      ]
    }
  ]
}