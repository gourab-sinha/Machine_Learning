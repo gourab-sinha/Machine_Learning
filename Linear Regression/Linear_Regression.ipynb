{
  "nbformat": 4,
  "nbformat_minor": 0,
  "metadata": {
    "colab": {
      "name": "Linear Regression.ipynb",
      "provenance": [],
      "collapsed_sections": [],
      "mount_file_id": "1uQXorPuhNhFeEvJgKNNwazZN1LgtfCqM",
      "authorship_tag": "ABX9TyNMjbPuHWylK6Nd0EMchWap",
      "include_colab_link": true
    },
    "kernelspec": {
      "name": "python3",
      "display_name": "Python 3"
    }
  },
  "cells": [
    {
      "cell_type": "markdown",
      "metadata": {
        "id": "view-in-github",
        "colab_type": "text"
      },
      "source": [
        "<a href=\"https://colab.research.google.com/github/gourab-sinha/Machine_Learning/blob/master/Linear%20Regression/Linear_Regression.ipynb\" target=\"_parent\"><img src=\"https://colab.research.google.com/assets/colab-badge.svg\" alt=\"Open In Colab\"/></a>"
      ]
    },
    {
      "cell_type": "markdown",
      "metadata": {
        "id": "UrVRLAt-ekOf",
        "colab_type": "text"
      },
      "source": [
        "# Linear Regression Builtin"
      ]
    },
    {
      "cell_type": "code",
      "metadata": {
        "id": "lD52Hoq5W8Ao",
        "colab_type": "code",
        "colab": {}
      },
      "source": [
        "from sklearn import datasets\n",
        "from sklearn.linear_model import LinearRegression\n",
        "from sklearn import model_selection\n",
        "import pandas as pd\n",
        "import numpy as np"
      ],
      "execution_count": 0,
      "outputs": []
    },
    {
      "cell_type": "code",
      "metadata": {
        "id": "Mr2FMenaXEXo",
        "colab_type": "code",
        "colab": {}
      },
      "source": [
        "data = np.loadtxt('data.csv',delimiter=',')\n",
        "X = data[:,0].reshape(-1,1)\n",
        "Y = data[:,1]"
      ],
      "execution_count": 0,
      "outputs": []
    },
    {
      "cell_type": "code",
      "metadata": {
        "id": "9QCwyRoph40u",
        "colab_type": "code",
        "outputId": "37dcd58c-8b1b-46d7-ded9-bf24d8ec55a6",
        "colab": {
          "base_uri": "https://localhost:8080/",
          "height": 54
        }
      },
      "source": [
        "X_train,X_test, Y_train,Y_test = model_selection.train_test_split(X,Y)\n",
        "# print(len(X_train))\n",
        "alg1 = LinearRegression()\n",
        "alg1.fit(X_train,Y_train)\n"
      ],
      "execution_count": 0,
      "outputs": [
        {
          "output_type": "execute_result",
          "data": {
            "text/plain": [
              "LinearRegression(copy_X=True, fit_intercept=True, n_jobs=None, normalize=False)"
            ]
          },
          "metadata": {
            "tags": []
          },
          "execution_count": 6
        }
      ]
    },
    {
      "cell_type": "code",
      "metadata": {
        "id": "azG6213UjZKc",
        "colab_type": "code",
        "outputId": "9bf7f88b-1031-417e-ee88-2f2366f6250d",
        "colab": {
          "base_uri": "https://localhost:8080/",
          "height": 34
        }
      },
      "source": [
        "alg1.coef_ # m value"
      ],
      "execution_count": 0,
      "outputs": [
        {
          "output_type": "execute_result",
          "data": {
            "text/plain": [
              "array([1.23179465])"
            ]
          },
          "metadata": {
            "tags": []
          },
          "execution_count": 7
        }
      ]
    },
    {
      "cell_type": "code",
      "metadata": {
        "id": "Jp3KnI7NmgGM",
        "colab_type": "code",
        "outputId": "137cd628-0ee9-42f1-9129-6bf36568acaf",
        "colab": {
          "base_uri": "https://localhost:8080/",
          "height": 34
        }
      },
      "source": [
        "alg1.intercept_ # c value , equation y = mx + c"
      ],
      "execution_count": 0,
      "outputs": [
        {
          "output_type": "execute_result",
          "data": {
            "text/plain": [
              "12.087443109068715"
            ]
          },
          "metadata": {
            "tags": []
          },
          "execution_count": 8
        }
      ]
    },
    {
      "cell_type": "code",
      "metadata": {
        "id": "2fvGPfOumrXa",
        "colab_type": "code",
        "outputId": "8a9e494b-7a88-4683-d38d-4f7526df7161",
        "colab": {
          "base_uri": "https://localhost:8080/",
          "height": 265
        }
      },
      "source": [
        "import matplotlib.pyplot as plt\n",
        "m = alg1.coef_\n",
        "c = alg1.intercept_\n",
        "x_line = np.arange(30,70,0.1)\n",
        "y_line = m*x_line + c\n",
        "train_d1 = X_test.reshape(25)\n",
        "plt.plot(x_line,y_line,\"r\")\n",
        "plt.scatter(X_test,Y_test)\n",
        "plt.show()"
      ],
      "execution_count": 0,
      "outputs": [
        {
          "output_type": "display_data",
          "data": {
            "image/png": "[encoded data removed]",
            "text/plain": [
              "<Figure size 432x288 with 1 Axes>"
            ]
          },
          "metadata": {
            "tags": []
          }
        }
      ]
    },
    {
      "cell_type": "code",
      "metadata": {
        "id": "xBoI08wLnQF6",
        "colab_type": "code",
        "outputId": "b453ecdf-e538-4bc8-b267-5a4158501b33",
        "colab": {
          "base_uri": "https://localhost:8080/",
          "height": 51
        }
      },
      "source": [
        "score_test = alg1.score(X_test,Y_test)\n",
        "print(score_test)\n",
        "score_train = alg1.score(X_train,Y_train)\n",
        "print(score_train)"
      ],
      "execution_count": 0,
      "outputs": [
        {
          "output_type": "stream",
          "text": [
            "0.543232536921533\n",
            "0.6074988591174282\n"
          ],
          "name": "stdout"
        }
      ]
    },
    {
      "cell_type": "code",
      "metadata": {
        "id": "1_qAxHKdLH-v",
        "colab_type": "code",
        "outputId": "a9d06f54-ae5b-4ab6-ba3d-0b6ad866af73",
        "colab": {
          "base_uri": "https://localhost:8080/",
          "height": 34
        }
      },
      "source": [
        "a = [0.4*0.4,0.2*0.2,0.8*0.8,1.3*1.3,0.7*0.7]\n",
        "total = 0\n",
        "for i in a:\n",
        "  total+=i\n",
        "total"
      ],
      "execution_count": 0,
      "outputs": [
        {
          "output_type": "execute_result",
          "data": {
            "text/plain": [
              "3.02"
            ]
          },
          "metadata": {
            "tags": []
          },
          "execution_count": 16
        }
      ]
    },
    {
      "cell_type": "markdown",
      "metadata": {
        "id": "wyZmqxqAUhMH",
        "colab_type": "text"
      },
      "source": [
        "# Linear Regression Own Model"
      ]
    },
    {
      "cell_type": "code",
      "metadata": {
        "id": "lCgyjB7HP1UA",
        "colab_type": "code",
        "colab": {}
      },
      "source": [
        "data = np.loadtxt('data.csv',delimiter=',')\n",
        "X = data[:,0]\n",
        "Y = data[:,1]\n",
        "X_train,X_test, Y_train,Y_test = model_selection.train_test_split(X,Y,test_size=0.3)\n",
        "class LinearRegressionModel:\n",
        "  # M,C values\n",
        "  def fit(self,X_train,Y_train):\n",
        "    num = (X_train*Y_train).mean() - X_train.mean()*Y_train.mean()\n",
        "    denum = (X_train**2).mean() - X_train.mean()**2\n",
        "    m = num/denum\n",
        "    c = Y_train.mean()-m*X_train.mean()\n",
        "    return m,c\n",
        "\n",
        "  # Predict\n",
        "  def pred(self,X_test,m,c):\n",
        "    return m*X_test+c\n",
        "  \n",
        "  # Score\n",
        "  def score(self,Y_test,Y_pred):\n",
        "    u = ((Y_test-Y_pred)**2).sum()\n",
        "    v = ((Y_test-Y_test.mean())**2).sum()\n",
        "    return 1-u/v\n",
        "\n",
        "  # Cost to train\n",
        "  def cost(self,X,Y,m,c):\n",
        "    return ((Y-m*X-c)**2).mean()\n",
        "\n"
      ],
      "execution_count": 0,
      "outputs": []
    },
    {
      "cell_type": "code",
      "metadata": {
        "id": "AAtbPYNzfNrI",
        "colab_type": "code",
        "outputId": "8cd55cfa-2aea-4659-904c-4e42257ffe7b",
        "colab": {
          "base_uri": "https://localhost:8080/",
          "height": 85
        }
      },
      "source": [
        "linear_regression = LinearRegressionModel()\n",
        "m,c = linear_regression.fit(X_train,Y_train)\n",
        "# Predicted test \n",
        "Y_pred = linear_regression.pred(X_test,m,c)\n",
        "\n",
        "# Test Score\n",
        "test_score = linear_regression.score(Y_test,Y_pred)\n",
        "\n",
        "# Predicted train\n",
        "Y_pred_train = linear_regression.pred(X_train,m,c)\n",
        "\n",
        "# Train score\n",
        "train_score = linear_regression.score(Y_train,Y_pred_train)\n",
        "\n",
        "# test data\n",
        "y_test_pred = linear_regression.pred(X_test, m, c)\n",
        "print(\"Test Score: \",test_score)\n",
        "\n",
        "# Training Score\n",
        "print(\"Train Score: \",train_score)\n",
        "\n",
        "# Training Cost\n",
        "print(\"Training Cost: \",linear_regression.cost(X_train,Y_train,m,c))\n",
        "\n",
        "# M, C\n",
        "print(\"M, C \",m,c)\n",
        "\n"
      ],
      "execution_count": 94,
      "outputs": [
        {
          "output_type": "stream",
          "text": [
            "Test Score:  0.49732165174109855\n",
            "Train Score:  0.6089316845016236\n",
            "Training Cost:  121.07812406550072\n",
            "M, C  1.3441845395678818 7.741173337456374\n"
          ],
          "name": "stdout"
        }
      ]
    }
  ]
}