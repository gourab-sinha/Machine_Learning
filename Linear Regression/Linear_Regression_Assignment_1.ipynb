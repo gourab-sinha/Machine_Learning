{
  "nbformat": 4,
  "nbformat_minor": 0,
  "metadata": {
    "colab": {
      "name": "Linear Regression Assignment 1.ipynb",
      "provenance": [],
      "collapsed_sections": [],
      "authorship_tag": "ABX9TyOZoT9E9YnK5m2FRdYcYZdj",
      "include_colab_link": true
    },
    "kernelspec": {
      "name": "python3",
      "display_name": "Python 3"
    }
  },
  "cells": [
    {
      "cell_type": "markdown",
      "metadata": {
        "id": "view-in-github",
        "colab_type": "text"
      },
      "source": [
        "<a href=\"https://colab.research.google.com/github/gourab-sinha/Machine_Learning/blob/master/Linear%20Regression/Linear_Regression_Assignment_1.ipynb\" target=\"_parent\"><img src=\"https://colab.research.google.com/assets/colab-badge.svg\" alt=\"Open In Colab\"/></a>"
      ]
    },
    {
      "cell_type": "markdown",
      "metadata": {
        "id": "Vye8EU2o0CIo",
        "colab_type": "text"
      },
      "source": [
        "# Linear Regression - Diabetes Dataset\n"
      ]
    },
    {
      "cell_type": "code",
      "metadata": {
        "id": "3Deuql8DsuEo",
        "colab_type": "code",
        "colab": {}
      },
      "source": [
        "# Packages\n",
        "from sklearn.linear_model import LinearRegression\n",
        "import numpy as np\n",
        "import matplotlib.pyplot as plt\n",
        "import pandas as pd"
      ],
      "execution_count": 0,
      "outputs": []
    },
    {
      "cell_type": "code",
      "metadata": {
        "id": "fCYaPrbetBPC",
        "colab_type": "code",
        "colab": {}
      },
      "source": [
        "# Load Data\n",
        "data = np.loadtxt('train.csv',delimiter=',')\n",
        "X_train = data[:,0:10]\n",
        "Y_train = data[:,10:11]\n"
      ],
      "execution_count": 0,
      "outputs": []
    },
    {
      "cell_type": "code",
      "metadata": {
        "id": "Eyl1JDhpwI5t",
        "colab_type": "code",
        "colab": {
          "base_uri": "https://localhost:8080/",
          "height": 34
        },
        "outputId": "f47c5fa1-4bac-45fd-b3dc-de2d2d5ef503"
      },
      "source": [
        "# Regression Model\n",
        "lr_model = LinearRegression()\n",
        "lr_model.fit(X_train,Y_train)\n"
      ],
      "execution_count": 32,
      "outputs": [
        {
          "output_type": "execute_result",
          "data": {
            "text/plain": [
              "LinearRegression(copy_X=True, fit_intercept=True, n_jobs=None, normalize=False)"
            ]
          },
          "metadata": {
            "tags": []
          },
          "execution_count": 32
        }
      ]
    },
    {
      "cell_type": "code",
      "metadata": {
        "id": "VnTvG6_YwbqW",
        "colab_type": "code",
        "colab": {
          "base_uri": "https://localhost:8080/",
          "height": 54
        },
        "outputId": "17e28aa0-bd27-4495-cf4c-f49aa1f63a40"
      },
      "source": [
        "# Test Data\n",
        "X_test = np.loadtxt('testx.csv',delimiter=',')\n",
        "Y_pred = lr_model.predict(X_test)\n",
        "print(*Y_pred)"
      ],
      "execution_count": 33,
      "outputs": [
        {
          "output_type": "stream",
          "text": [
            "[105.52974799] [105.8039198] [178.60857225] [79.3828781] [52.95868706] [98.87263854] [150.71755448] [34.86515216] [113.13535727] [161.50184038] [135.8615611] [94.71592222] [138.48094422] [141.37441723] [158.76862662] [171.65288616] [106.44835654] [103.92659639] [95.38693889] [167.40118092] [166.53426278] [101.53464712] [252.45035972] [147.02258547] [214.78906632] [161.27557106] [210.61315228] [71.78091585] [189.65032431] [206.6134259] [219.98643455] [168.80192534] [116.84846127] [178.74399639] [77.03247418] [59.54633214] [111.5673781] [156.95186739] [154.59591259] [198.94457493] [115.53884017] [153.46699024] [84.96179518] [113.70337192] [142.14155617] [147.31040378] [82.78072358] [77.89237327] [128.99006192] [261.58712282] [213.31187775] [243.98791257] [167.68132094] [183.69712124] [166.85926884] [202.11440188] [220.39235543] [172.40288024] [176.60897931] [109.04656567] [276.37789836] [90.99941821] [289.37221147] [119.56253351] [75.45687948] [180.78598759] [146.62093081] [156.42382465] [41.079036] [247.90645166] [207.99121432] [90.09641075] [222.24169638] [189.86378006] [182.2695376] [164.39881376] [190.27066587] [105.4486795] [199.86136394] [245.796388] [123.20281334] [119.41031908] [145.86620411] [206.19247291] [150.86282453] [142.23221646] [154.56874616] [115.29233396] [134.07810123] [118.42225404] [203.5767555] [170.66483797] [127.409797] [57.13507634] [231.92226503] [185.20713654] [187.37494558] [83.55920849] [185.42585685] [217.34035639] [108.86715354] [80.98714568] [127.05524123] [242.00738792] [155.9723414] [125.67575276] [246.41235643] [234.963933] [191.51298252] [168.33254477] [163.02965178]\n"
          ],
          "name": "stdout"
        }
      ]
    },
    {
      "cell_type": "code",
      "metadata": {
        "id": "ch4v1cmZ0BFa",
        "colab_type": "code",
        "colab": {}
      },
      "source": [
        "Y_pred = np.around(Y_pred,decimals=5)\n",
        "np.savetxt(\"Y_prediction.csv\", Y_pred, delimiter=\",\")\n"
      ],
      "execution_count": 0,
      "outputs": []
    },
    {
      "cell_type": "code",
      "metadata": {
        "id": "cfWbrZL72Huq",
        "colab_type": "code",
        "colab": {
          "base_uri": "https://localhost:8080/",
          "height": 54
        },
        "outputId": "3ed7b94c-55d2-46e8-a840-3d8a35e4a50c"
      },
      "source": [
        "print(*Y_pred)"
      ],
      "execution_count": 43,
      "outputs": [
        {
          "output_type": "stream",
          "text": [
            "[105.52975] [105.80392] [178.60857] [79.38288] [52.95869] [98.87264] [150.71755] [34.86515] [113.13536] [161.50184] [135.86156] [94.71592] [138.48094] [141.37442] [158.76863] [171.65289] [106.44836] [103.9266] [95.38694] [167.40118] [166.53426] [101.53465] [252.45036] [147.02259] [214.78907] [161.27557] [210.61315] [71.78092] [189.65032] [206.61343] [219.98643] [168.80193] [116.84846] [178.744] [77.03247] [59.54633] [111.56738] [156.95187] [154.59591] [198.94457] [115.53884] [153.46699] [84.9618] [113.70337] [142.14156] [147.3104] [82.78072] [77.89237] [128.99006] [261.58712] [213.31188] [243.98791] [167.68132] [183.69712] [166.85927] [202.1144] [220.39236] [172.40288] [176.60898] [109.04657] [276.3779] [90.99942] [289.37221] [119.56253] [75.45688] [180.78599] [146.62093] [156.42382] [41.07904] [247.90645] [207.99121] [90.09641] [222.2417] [189.86378] [182.26954] [164.39881] [190.27067] [105.44868] [199.86136] [245.79639] [123.20281] [119.41032] [145.8662] [206.19247] [150.86282] [142.23222] [154.56875] [115.29233] [134.0781] [118.42225] [203.57676] [170.66484] [127.4098] [57.13508] [231.92227] [185.20714] [187.37495] [83.55921] [185.42586] [217.34036] [108.86715] [80.98715] [127.05524] [242.00739] [155.97234] [125.67575] [246.41236] [234.96393] [191.51298] [168.33254] [163.02965]\n"
          ],
          "name": "stdout"
        }
      ]
    }
  ]
}