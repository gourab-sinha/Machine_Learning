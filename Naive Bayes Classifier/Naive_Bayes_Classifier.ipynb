{
  "nbformat": 4,
  "nbformat_minor": 0,
  "metadata": {
    "colab": {
      "name": "Naive_Bayes_Classifier.ipynb",
      "provenance": [],
      "collapsed_sections": [],
      "authorship_tag": "ABX9TyMOJQW/IU2/o8mr289XyiM8",
      "include_colab_link": true
    },
    "kernelspec": {
      "name": "python3",
      "display_name": "Python 3"
    }
  },
  "cells": [
    {
      "cell_type": "markdown",
      "metadata": {
        "id": "view-in-github",
        "colab_type": "text"
      },
      "source": [
        "<a href=\"https://colab.research.google.com/github/gourab-sinha/Machine_Learning/blob/master/Naive%20Bayes%20Classifier/Naive_Bayes_Classifier.ipynb\" target=\"_parent\"><img src=\"https://colab.research.google.com/assets/colab-badge.svg\" alt=\"Open In Colab\"/></a>"
      ]
    },
    {
      "cell_type": "code",
      "metadata": {
        "id": "fx4NQ9OAeOnQ",
        "colab_type": "code",
        "colab": {}
      },
      "source": [
        "import pandas as pd\n",
        "import numpy as np\n",
        "from sklearn import datasets\n",
        "from sklearn.metrics import confusion_matrix, classification_report\n",
        "from sklearn.model_selection import train_test_split"
      ],
      "execution_count": 0,
      "outputs": []
    },
    {
      "cell_type": "code",
      "metadata": {
        "id": "U1ZWMcuhealm",
        "colab_type": "code",
        "colab": {}
      },
      "source": [
        "class NaiveBayesClassifier:\n",
        "  # Train\n",
        "  def train_classifier(self, train_data):\n",
        "\n",
        "    # Different classes in Target\n",
        "    classes = dict(train_data['target'].value_counts().items())\n",
        "\n",
        "    # To store all information\n",
        "    result = {}\n",
        "    for class_type, count in classes.items():\n",
        "\n",
        "      # Extract only data points which are equal to class_type\n",
        "      features = train_data[train_data['target']==class_type]\n",
        "\n",
        "      # Features present in train_data\n",
        "      feature_names = list(features.columns)\n",
        "\n",
        "      # Target is not require hence removed\n",
        "      feature_names.remove('target')\n",
        "      \n",
        "      # To store features and their differnt labels with count\n",
        "      feature_with_counts = {}\n",
        "\n",
        "      for feature_name in feature_names:\n",
        "\n",
        "        # Differnt labels with count for ith feature\n",
        "        categories_in_feature = dict(features[feature_name].value_counts().items())\n",
        "\n",
        "        # To get total count of the ith feature present \n",
        "        total_count = 0\n",
        "        for category,val in categories_in_feature.items():\n",
        "          total_count += val\n",
        "\n",
        "        # Insert new key with name total_count to hold the total_count\n",
        "        categories_in_feature['total_count'] = total_count\n",
        "\n",
        "        # To hold details of ith feature\n",
        "        feature_with_counts[feature_name] = categories_in_feature\n",
        "      \n",
        "      # Count of class that appeared in data points after filteration \n",
        "      feature_with_counts[\"total_count\"] = count\n",
        "\n",
        "      # To hold with class_type which is present in Target.\n",
        "      result[class_type] = feature_with_counts\n",
        "    \n",
        "    # Number of data points in the train_data set\n",
        "    result[\"overall\"] = train_data.shape[0]\n",
        "    return result\n",
        "\n",
        "\n",
        "  def __probability(self, dictionary,X,current_class):\n",
        "\n",
        "    # Summation of P(X=xj/Y=ai)\n",
        "    output = np.log(dictionary[current_class]['total_count']) - np.log(dictionary['overall'])\n",
        "\n",
        "    # Features present in dictionary\n",
        "    features = dictionary[current_class].keys()\n",
        "    for feature in features:\n",
        "      if feature=='total_count':\n",
        "        continue\n",
        "      \n",
        "      # Value present in testing data for selected feature\n",
        "      feature_category = X[feature].iloc[0]\n",
        "\n",
        "      # For selected value total count present, default 1 for laplace correction\n",
        "      total_count_category = dictionary[current_class][feature].get(feature_category,1)\n",
        "\n",
        "      # Calculation for the  P(X=x_jth/Y=a_ith)\n",
        "      cal = np.log(total_count_category) - np.log(dictionary[current_class]['total_count']+len(dictionary[current_class][feature]))\n",
        "      output = output + cal\n",
        "\n",
        "    return output\n",
        "\n",
        "  def __predictSinglePoint(self, dictionary,X):\n",
        "\n",
        "    # Target classes \n",
        "    classes = dictionary.keys()\n",
        "\n",
        "    # To pick best probability and best target class\n",
        "    best_p = -1000\n",
        "    best_class = -1\n",
        "    first_run = True\n",
        "    for current_class in classes:\n",
        "      if current_class=='overall':\n",
        "        continue\n",
        "      \n",
        "      # Get the probability based on the target class\n",
        "      p_current_class = self.__probability(dictionary,X,current_class)\n",
        "\n",
        "      # Update if p_current_class is greater than the best_p\n",
        "      if(first_run or p_current_class>best_p):\n",
        "        best_p = p_current_class\n",
        "        best_class = current_class\n",
        "\n",
        "      # Once best_p and best_class updated make it false\n",
        "      first_run = False\n",
        "    return best_class\n",
        "  \n",
        "  def predict(self,dictionary,X_test,columns):\n",
        "\n",
        "    # Store results\n",
        "    result = []\n",
        "\n",
        "    # Iterate over all test data points\n",
        "    for x in X_test.values:\n",
        "      x = pd.DataFrame([x],columns=columns)\n",
        "      class_name = self.__predictSinglePoint(dictionary,x)\n",
        "      result.append(class_name)\n",
        "    \n",
        "    return result\n",
        "\n",
        "  \n",
        "\n",
        "\n",
        "\n",
        "      "
      ],
      "execution_count": 0,
      "outputs": []
    },
    {
      "cell_type": "code",
      "metadata": {
        "id": "otmCVUg6jvb5",
        "colab_type": "code",
        "outputId": "45aeb4e0-8da4-4166-8f87-6643d2c3d3ee",
        "colab": {
          "base_uri": "https://localhost:8080/",
          "height": 71
        }
      },
      "source": [
        "data = [[\"Sunny\",\"High\",\"Yes\"],\n",
        "        [\"Sunny\",\"Low\",\"Yes\"],\n",
        "        [\"Overcast\",\"Medium\",\"No\"],\n",
        "        [\"Rainy\",\"High\",\"No\"],\n",
        "        [\"Overcast\",\"High\",\"Dont Know\"],\n",
        "        [\"Overcast\",\"Medium\",\"Dont Know\"],\n",
        "        [\"Overcast\",\"Medium\",\"Dont Know\"],\n",
        "        [\"Rainy\",\"Medium\",\"No\"],\n",
        "        [\"Overcast\",\"Medium\",\"No\"],\n",
        "        [\"Sunny\",\"High\",\"Yes\"],\n",
        "        [\"Sunny\",\"Medium\",\"Yes\"],\n",
        "        [\"Rainy\",\"High\",\"No\"],\n",
        "        [\"Overcast\",\"Low\",\"Yes\"],\n",
        "        [\"Overcast\",\"Medium\",\"Yes\"],\n",
        "        [\"Rainy\",\"Low\",\"Yes\"],\n",
        "        [\"Overcast\",\"Medium\",\"Yes\"]\n",
        "        ]\n",
        "\n",
        "data = pd.DataFrame(data, columns=[\"Outlook\",\"Wind\",\"target\"])\n",
        "naive_classifier = NaiveBayesClassifier()\n",
        "result = naive_classifier.train_classifier(data)\n",
        "\n",
        "print(result)\n",
        "\n",
        "# Correctness check\n",
        "print(result['Dont Know']['Outlook']['total_count'])"
      ],
      "execution_count": 309,
      "outputs": [
        {
          "output_type": "stream",
          "text": [
            "{'Yes': {'Outlook': {'Sunny': 4, 'Overcast': 3, 'Rainy': 1, 'total_count': 8}, 'Wind': {'Medium': 3, 'Low': 3, 'High': 2, 'total_count': 8}, 'total_count': 8}, 'No': {'Outlook': {'Rainy': 3, 'Overcast': 2, 'total_count': 5}, 'Wind': {'Medium': 3, 'High': 2, 'total_count': 5}, 'total_count': 5}, 'Dont Know': {'Outlook': {'Overcast': 3, 'total_count': 3}, 'Wind': {'Medium': 2, 'High': 1, 'total_count': 3}, 'total_count': 3}, 'overall': 16}\n",
            "3\n"
          ],
          "name": "stdout"
        }
      ]
    },
    {
      "cell_type": "code",
      "metadata": {
        "id": "qOmdS1J9x3-6",
        "colab_type": "code",
        "colab": {
          "base_uri": "https://localhost:8080/",
          "height": 34
        },
        "outputId": "7545feee-10c8-42d6-a2f1-6427efaa9508"
      },
      "source": [
        "data = pd.DataFrame([[\"Sunny\",\"High\"],\n",
        "        [\"Sunny\",\"Low\"],\n",
        "        [\"Overcast\",\"Medium\"],\n",
        "        [\"Rainy\",\"High\"],\n",
        "        [\"Rainy\",\"Low\"],\n",
        "        [\"Overcast\",\"Low\"],\n",
        "        [\"Rainy\",\"Medium\"],\n",
        "        [\"Sunny\",\"Medium\"],\n",
        "        [\"Overcast\",\"Low\"],\n",
        "        [\"Overcast\",\"High\"]\n",
        "        ],columns=[\"Outlook\",\"Wind\"])\n",
        "\n",
        "\n",
        "\n",
        "predicted = naive_classifier.predict(result,data,[\"Outlook\",\"Wind\"])\n",
        "print(predicted)"
      ],
      "execution_count": 311,
      "outputs": [
        {
          "output_type": "stream",
          "text": [
            "['Yes', 'Yes', 'Dont Know', 'No', 'No', 'Yes', 'No', 'Yes', 'Yes', 'Yes']\n"
          ],
          "name": "stdout"
        }
      ]
    },
    {
      "cell_type": "markdown",
      "metadata": {
        "id": "7SvHvQ-MbPqt",
        "colab_type": "text"
      },
      "source": [
        "# Iris Dataset Prediction"
      ]
    },
    {
      "cell_type": "code",
      "metadata": {
        "id": "NAdt_FDkU-BF",
        "colab_type": "code",
        "colab": {
          "base_uri": "https://localhost:8080/",
          "height": 34
        },
        "outputId": "f5d3abbe-ec1b-4761-d5fa-ed6e65d5e450"
      },
      "source": [
        "\n",
        "def markLabel(column):\n",
        "  second_mean = column.mean()\n",
        "  first_mean = 0.5*second_mean\n",
        "  third_mean = 1.5*second_mean\n",
        "  for i in range(column.shape[0]):\n",
        "    if column.loc[i]<=first_mean:\n",
        "      column.loc[i] = int(0)\n",
        "    elif column.iloc[i]<=second_mean:\n",
        "      column.loc[i] = int(1)\n",
        "    elif column.iloc[i]<=third_mean:\n",
        "      column.loc[i] = int(2)\n",
        "    else:\n",
        "      column.loc[i] = int(3)\n",
        "    \n",
        "  return column\n",
        "\n",
        "\n",
        "iris = datasets.load_iris()\n",
        "data = iris.data\n",
        "targets = iris.target\n",
        "X = pd.DataFrame(data,columns=iris.feature_names)\n",
        "X['target'] = iris.target\n",
        "for i in X.columns:\n",
        "  if i=='target':\n",
        "    continue\n",
        "  X[i] = markLabel(X[i].copy())\n",
        "\n",
        "X_train,X_test,Y_train,Y_test = train_test_split(X,iris.target,test_size=0.40)\n",
        "print(X_train.shape,X_test.shape)"
      ],
      "execution_count": 351,
      "outputs": [
        {
          "output_type": "stream",
          "text": [
            "(90, 5) (60, 5)\n"
          ],
          "name": "stdout"
        }
      ]
    },
    {
      "cell_type": "code",
      "metadata": {
        "id": "E8O1MgkuXFcY",
        "colab_type": "code",
        "colab": {}
      },
      "source": [
        "naive_classifier = NaiveBayesClassifier()\n",
        "result = naive_classifier.train_classifier(X_train)"
      ],
      "execution_count": 0,
      "outputs": []
    },
    {
      "cell_type": "code",
      "metadata": {
        "id": "kznxZOWpXRqy",
        "colab_type": "code",
        "colab": {
          "base_uri": "https://localhost:8080/",
          "height": 102
        },
        "outputId": "ed2ee910-3309-4a0d-926f-f25353d8fe50"
      },
      "source": [
        "Y_actual = X_test['target'].values.copy()\n",
        "X_test.drop(['target'],axis = 1,inplace=True)\n",
        "predict = naive_classifier.predict(result,X_test,iris.feature_names)"
      ],
      "execution_count": 353,
      "outputs": [
        {
          "output_type": "stream",
          "text": [
            "/usr/local/lib/python3.6/dist-packages/pandas/core/frame.py:3997: SettingWithCopyWarning: \n",
            "A value is trying to be set on a copy of a slice from a DataFrame\n",
            "\n",
            "See the caveats in the documentation: https://pandas.pydata.org/pandas-docs/stable/user_guide/indexing.html#returning-a-view-versus-a-copy\n",
            "  errors=errors,\n"
          ],
          "name": "stderr"
        }
      ]
    },
    {
      "cell_type": "code",
      "metadata": {
        "id": "IJAc_i8DZjuS",
        "colab_type": "code",
        "colab": {
          "base_uri": "https://localhost:8080/",
          "height": 238
        },
        "outputId": "2122a1c5-cd77-4101-939f-02aabc59f47b"
      },
      "source": [
        "print(classification_report(Y_actual,predict))\n",
        "print(confusion_matrix(Y_actual,predict))"
      ],
      "execution_count": 354,
      "outputs": [
        {
          "output_type": "stream",
          "text": [
            "              precision    recall  f1-score   support\n",
            "\n",
            "           0       1.00      1.00      1.00        23\n",
            "           1       1.00      1.00      1.00        21\n",
            "           2       1.00      1.00      1.00        16\n",
            "\n",
            "    accuracy                           1.00        60\n",
            "   macro avg       1.00      1.00      1.00        60\n",
            "weighted avg       1.00      1.00      1.00        60\n",
            "\n",
            "[[23  0  0]\n",
            " [ 0 21  0]\n",
            " [ 0  0 16]]\n"
          ],
          "name": "stdout"
        }
      ]
    }
  ]
}