{
  "nbformat": 4,
  "nbformat_minor": 0,
  "metadata": {
    "colab": {
      "name": "Naive_Bayes_Classifier.ipynb",
      "provenance": [],
      "collapsed_sections": [],
      "authorship_tag": "ABX9TyMkq0xi7MrX9AO7ImSC/krK",
      "include_colab_link": true
    },
    "kernelspec": {
      "name": "python3",
      "display_name": "Python 3"
    }
  },
  "cells": [
    {
      "cell_type": "markdown",
      "metadata": {
        "id": "view-in-github",
        "colab_type": "text"
      },
      "source": [
        "<a href=\"https://colab.research.google.com/github/gourab-sinha/Machine_Learning/blob/master/Naive%20Bayes%20Classifier/Naive_Bayes_Classifier.ipynb\" target=\"_parent\"><img src=\"https://colab.research.google.com/assets/colab-badge.svg\" alt=\"Open In Colab\"/></a>"
      ]
    },
    {
      "cell_type": "code",
      "metadata": {
        "id": "fx4NQ9OAeOnQ",
        "colab_type": "code",
        "colab": {}
      },
      "source": [
        "import pandas as pd"
      ],
      "execution_count": 0,
      "outputs": []
    },
    {
      "cell_type": "code",
      "metadata": {
        "id": "U1ZWMcuhealm",
        "colab_type": "code",
        "colab": {}
      },
      "source": [
        "class NaiveBayesClassifier:\n",
        "\n",
        "  # Train\n",
        "  def train_classifier(self, train_data):\n",
        "\n",
        "    # Different classes in Target\n",
        "    classes = dict(train_data['target'].value_counts().items())\n",
        "\n",
        "    # To store all information\n",
        "    result = {}\n",
        "    for class_type, count in classes.items():\n",
        "\n",
        "      # Extract only data points which are equal to class_type\n",
        "      features = train_data[train_data['target']==class_type]\n",
        "\n",
        "      # Features present in train_data\n",
        "      feature_names = list(features.columns)\n",
        "\n",
        "      # Target is not require hence removed\n",
        "      feature_names.remove('target')\n",
        "      \n",
        "      # To store features and their differnt labels with count\n",
        "      feature_with_counts = {}\n",
        "\n",
        "      for feature_name in feature_names:\n",
        "\n",
        "        # Differnt labels with count for ith feature\n",
        "        categories_in_feature = dict(features[feature_name].value_counts().items())\n",
        "\n",
        "        # To get total count of the ith feature present \n",
        "        total_count = 0\n",
        "        for category,val in categories_in_feature.items():\n",
        "          total_count += val\n",
        "\n",
        "        # Insert new key with name total_count to hold the total_count\n",
        "        categories_in_feature['total_count'] = total_count\n",
        "\n",
        "        # To hold details of ith feature\n",
        "        feature_with_counts[feature_name] = categories_in_feature\n",
        "      \n",
        "      # Count of class that appeared in data points after filteration \n",
        "      feature_with_counts[\"total_count\"] = count\n",
        "\n",
        "      # To hold with class_type which is present in Target.\n",
        "      result[class_type] = feature_with_counts\n",
        "    \n",
        "    # Number of data points in the train_data set\n",
        "    result[\"Overall\"] = train_data.shape[0]\n",
        "    return result\n",
        "\n",
        "\n",
        "      "
      ],
      "execution_count": 0,
      "outputs": []
    },
    {
      "cell_type": "code",
      "metadata": {
        "id": "otmCVUg6jvb5",
        "colab_type": "code",
        "colab": {
          "base_uri": "https://localhost:8080/",
          "height": 71
        },
        "outputId": "2e9536bc-84ab-4911-e6b4-3f928ca23aa4"
      },
      "source": [
        "data = [[\"Sunny\",\"High\",\"Yes\"],\n",
        "        [\"Sunny\",\"Low\",\"Yes\"],\n",
        "        [\"Overcast\",\"Medium\",\"Yes\"],\n",
        "        [\"Rainy\",\"High\",\"No\"],\n",
        "        [\"Overcast\",\"High\",\"Dont Know\"],\n",
        "        ]\n",
        "\n",
        "data = pd.DataFrame(data, columns=[\"Outlook\",\"Wind\",\"target\"])\n",
        "naive_classifier = NaiveBayesClassifier()\n",
        "result = naive_classifier.train_classifier(data)\n",
        "\n",
        "print(result)\n",
        "\n",
        "# Correctness check\n",
        "print(result['Dont Know']['Outlook']['total_count'])"
      ],
      "execution_count": 69,
      "outputs": [
        {
          "output_type": "stream",
          "text": [
            "{'Yes': {'Outlook': {'Sunny': 2, 'Overcast': 1, 'total_count': 3}, 'Wind': {'Low': 1, 'Medium': 1, 'High': 1, 'total_count': 3}, 'total_count': 3}, 'No': {'Outlook': {'Rainy': 1, 'total_count': 1}, 'Wind': {'High': 1, 'total_count': 1}, 'total_count': 1}, 'Dont Know': {'Outlook': {'Overcast': 1, 'total_count': 1}, 'Wind': {'High': 1, 'total_count': 1}, 'total_count': 1}, 'Overall': 5}\n",
            "1\n"
          ],
          "name": "stdout"
        }
      ]
    },
    {
      "cell_type": "code",
      "metadata": {
        "id": "Fy_lREVNkgBV",
        "colab_type": "code",
        "colab": {
          "base_uri": "https://localhost:8080/",
          "height": 34
        },
        "outputId": "c4e7bedc-eb9d-44e4-813d-50962541890c"
      },
      "source": [
        ""
      ],
      "execution_count": 61,
      "outputs": [
        {
          "output_type": "execute_result",
          "data": {
            "text/plain": [
              "2"
            ]
          },
          "metadata": {
            "tags": []
          },
          "execution_count": 61
        }
      ]
    }
  ]
}