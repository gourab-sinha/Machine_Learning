{
  "nbformat": 4,
  "nbformat_minor": 0,
  "metadata": {
    "colab": {
      "name": "PCA on Breast Cancer Dataset.ipynb",
      "provenance": [],
      "collapsed_sections": [],
      "authorship_tag": "ABX9TyNTpbCKfNNCpl7mMuvfblFC",
      "include_colab_link": true
    },
    "kernelspec": {
      "name": "python3",
      "display_name": "Python 3"
    }
  },
  "cells": [
    {
      "cell_type": "markdown",
      "metadata": {
        "id": "view-in-github",
        "colab_type": "text"
      },
      "source": [
        "<a href=\"https://colab.research.google.com/github/gourab-sinha/Machine_Learning/blob/master/Principal%20Component%20Analysis(PCA)/PCA_on_Breast_Cancer_Dataset.ipynb\" target=\"_parent\"><img src=\"https://colab.research.google.com/assets/colab-badge.svg\" alt=\"Open In Colab\"/></a>"
      ]
    },
    {
      "cell_type": "code",
      "metadata": {
        "id": "PZLsDzCWo1UG",
        "colab_type": "code",
        "colab": {}
      },
      "source": [
        "from sklearn import decomposition,datasets,linear_model\n",
        "import numpy as np\n",
        "import time\n",
        "from sklearn.preprocessing import StandardScaler\n",
        "from sklearn.model_selection import train_test_split"
      ],
      "execution_count": 0,
      "outputs": []
    },
    {
      "cell_type": "code",
      "metadata": {
        "id": "pOQIUhVXpkUt",
        "colab_type": "code",
        "colab": {
          "base_uri": "https://localhost:8080/",
          "height": 34
        },
        "outputId": "1d480976-8ff8-4c59-e9e4-705f9fae50ae"
      },
      "source": [
        "bcancer = datasets.load_breast_cancer()\n",
        "x = bcancer.data\n",
        "x.shape"
      ],
      "execution_count": 7,
      "outputs": [
        {
          "output_type": "execute_result",
          "data": {
            "text/plain": [
              "(569, 30)"
            ]
          },
          "metadata": {
            "tags": []
          },
          "execution_count": 7
        }
      ]
    },
    {
      "cell_type": "code",
      "metadata": {
        "id": "DwZ_SavtqCYj",
        "colab_type": "code",
        "colab": {}
      },
      "source": [
        "sc = StandardScaler()\n",
        "X_std = sc.fit_transform(x)\n",
        "x_train,x_test,y_train,y_test = train_test_split(X_std,bcancer.target,random_state=0)"
      ],
      "execution_count": 0,
      "outputs": []
    },
    {
      "cell_type": "code",
      "metadata": {
        "id": "BI_kUI03qnWz",
        "colab_type": "code",
        "colab": {}
      },
      "source": [
        "pca = decomposition.PCA(n_components=15)\n",
        "x_train_pca = pca.fit_transform(x_train)\n",
        "x_test_pca = pca.fit_transform(x_test)"
      ],
      "execution_count": 0,
      "outputs": []
    },
    {
      "cell_type": "code",
      "metadata": {
        "id": "OH1hb27Eq_dv",
        "colab_type": "code",
        "colab": {
          "base_uri": "https://localhost:8080/",
          "height": 51
        },
        "outputId": "edc34893-3c52-4d9a-afd5-8f3ee613bb4e"
      },
      "source": [
        "lr = linear_model.LogisticRegression()\n",
        "start = time.time()\n",
        "lr.fit(x_train,y_train)\n",
        "end = time.time()\n",
        "print(end-start)\n",
        "print(lr.score(x_test,y_test))"
      ],
      "execution_count": 12,
      "outputs": [
        {
          "output_type": "stream",
          "text": [
            "0.024204015731811523\n",
            "0.965034965034965\n"
          ],
          "name": "stdout"
        }
      ]
    },
    {
      "cell_type": "code",
      "metadata": {
        "id": "ioKgq_YOppjM",
        "colab_type": "code",
        "colab": {
          "base_uri": "https://localhost:8080/",
          "height": 51
        },
        "outputId": "11f1c765-c019-438d-dffe-f40ba66b70fd"
      },
      "source": [
        "lr = linear_model.LogisticRegression()\n",
        "start = time.time()\n",
        "lr.fit(x_train_pca,y_train)\n",
        "end = time.time()\n",
        "print(end-start)\n",
        "print(lr.score(x_test_pca,y_test))"
      ],
      "execution_count": 13,
      "outputs": [
        {
          "output_type": "stream",
          "text": [
            "0.010905265808105469\n",
            "0.9370629370629371\n"
          ],
          "name": "stdout"
        }
      ]
    }
  ]
}