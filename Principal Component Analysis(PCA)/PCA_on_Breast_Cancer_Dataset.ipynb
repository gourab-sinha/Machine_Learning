{
  "nbformat": 4,
  "nbformat_minor": 0,
  "metadata": {
    "colab": {
      "name": "PCA on Breast Cancer Dataset.ipynb",
      "provenance": [],
      "collapsed_sections": [],
      "authorship_tag": "ABX9TyMQjQqlnuvxVMzrPea5hGPm",
      "include_colab_link": true
    },
    "kernelspec": {
      "name": "python3",
      "display_name": "Python 3"
    }
  },
  "cells": [
    {
      "cell_type": "markdown",
      "metadata": {
        "id": "view-in-github",
        "colab_type": "text"
      },
      "source": [
        "<a href=\"https://colab.research.google.com/github/gourab-sinha/Machine_Learning/blob/master/Principal%20Component%20Analysis(PCA)/PCA_on_Breast_Cancer_Dataset.ipynb\" target=\"_parent\"><img src=\"https://colab.research.google.com/assets/colab-badge.svg\" alt=\"Open In Colab\"/></a>"
      ]
    },
    {
      "cell_type": "code",
      "metadata": {
        "id": "PZLsDzCWo1UG",
        "colab_type": "code",
        "colab": {}
      },
      "source": [
        "from sklearn import decomposition,datasets,linear_model\n",
        "import numpy as np\n",
        "import time\n",
        "from sklearn.preprocessing import StandardScaler\n",
        "from sklearn.model_selection import train_test_split"
      ],
      "execution_count": 0,
      "outputs": []
    },
    {
      "cell_type": "code",
      "metadata": {
        "id": "pOQIUhVXpkUt",
        "colab_type": "code",
        "outputId": "b1b76083-0d78-414f-fd32-11359dce5b1b",
        "colab": {
          "base_uri": "https://localhost:8080/",
          "height": 34
        }
      },
      "source": [
        "bcancer = datasets.load_breast_cancer()\n",
        "x = bcancer.data\n",
        "x.shape"
      ],
      "execution_count": 2,
      "outputs": [
        {
          "output_type": "execute_result",
          "data": {
            "text/plain": [
              "(569, 30)"
            ]
          },
          "metadata": {
            "tags": []
          },
          "execution_count": 2
        }
      ]
    },
    {
      "cell_type": "code",
      "metadata": {
        "id": "DwZ_SavtqCYj",
        "colab_type": "code",
        "colab": {}
      },
      "source": [
        "sc = StandardScaler()\n",
        "X_std = sc.fit_transform(x)\n",
        "x_train,x_test,y_train,y_test = train_test_split(X_std,bcancer.target,random_state=0)"
      ],
      "execution_count": 0,
      "outputs": []
    },
    {
      "cell_type": "code",
      "metadata": {
        "id": "BI_kUI03qnWz",
        "colab_type": "code",
        "colab": {}
      },
      "source": [
        "pca = decomposition.PCA(n_components=15)\n",
        "x_train_pca = pca.fit_transform(x_train)\n",
        "x_test_pca = pca.fit_transform(x_test)"
      ],
      "execution_count": 0,
      "outputs": []
    },
    {
      "cell_type": "code",
      "metadata": {
        "id": "OH1hb27Eq_dv",
        "colab_type": "code",
        "outputId": "8a7e073a-29b6-490a-bc45-c4cadd2540df",
        "colab": {
          "base_uri": "https://localhost:8080/",
          "height": 51
        }
      },
      "source": [
        "lr = linear_model.LogisticRegression()\n",
        "start = time.time()\n",
        "lr.fit(x_train,y_train)\n",
        "end = time.time()\n",
        "print(end-start)\n",
        "print(lr.score(x_test,y_test))"
      ],
      "execution_count": 5,
      "outputs": [
        {
          "output_type": "stream",
          "text": [
            "0.016237974166870117\n",
            "0.965034965034965\n"
          ],
          "name": "stdout"
        }
      ]
    },
    {
      "cell_type": "code",
      "metadata": {
        "id": "ioKgq_YOppjM",
        "colab_type": "code",
        "outputId": "a3bcd52c-9711-4932-a126-beace2babf77",
        "colab": {
          "base_uri": "https://localhost:8080/",
          "height": 51
        }
      },
      "source": [
        "lr = linear_model.LogisticRegression()\n",
        "start = time.time()\n",
        "lr.fit(x_train_pca,y_train)\n",
        "end = time.time()\n",
        "print(end-start)\n",
        "print(lr.score(x_test_pca,y_test))"
      ],
      "execution_count": 6,
      "outputs": [
        {
          "output_type": "stream",
          "text": [
            "0.011003971099853516\n",
            "0.9370629370629371\n"
          ],
          "name": "stdout"
        }
      ]
    },
    {
      "cell_type": "markdown",
      "metadata": {
        "id": "OG2qEq3igC85",
        "colab_type": "text"
      },
      "source": [
        "# Choose No of Component \n",
        "#### Using varrience we can find the no of components i.e no of features. In this example I have take 95% varrience and for which I will need only 10 components i.e features.\n",
        "##### NOTE: We aren't picking only 10 features from the given set of features we are making new 10 features using provided features of N."
      ]
    },
    {
      "cell_type": "code",
      "metadata": {
        "id": "8dGfjhU1eepG",
        "colab_type": "code",
        "colab": {
          "base_uri": "https://localhost:8080/",
          "height": 34
        },
        "outputId": "e67700d6-6491-41e3-a5c1-48dbc5c01af8"
      },
      "source": [
        "pca = decomposition.PCA()\n",
        "pca.fit_transform(x_train)\n",
        "\n",
        "total = sum(pca.explained_variance_)\n",
        "k = 0\n",
        "current_varrience = 0 \n",
        "while current_varrience/total<0.95:\n",
        "  current_varrience+= pca.explained_variance_[k]\n",
        "  k+=1\n",
        "\n",
        "k\n"
      ],
      "execution_count": 8,
      "outputs": [
        {
          "output_type": "execute_result",
          "data": {
            "text/plain": [
              "10"
            ]
          },
          "metadata": {
            "tags": []
          },
          "execution_count": 8
        }
      ]
    }
  ]
}