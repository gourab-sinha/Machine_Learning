{
  "nbformat": 4,
  "nbformat_minor": 0,
  "metadata": {
    "kernelspec": {
      "display_name": "Python 3",
      "language": "python",
      "name": "python3"
    },
    "language_info": {
      "codemirror_mode": {
        "name": "ipython",
        "version": 3
      },
      "file_extension": ".py",
      "mimetype": "text/x-python",
      "name": "python",
      "nbconvert_exporter": "python",
      "pygments_lexer": "ipython3",
      "version": "3.6.3"
    },
    "colab": {
      "name": "SVM.ipynb",
      "provenance": [],
      "collapsed_sections": []
    }
  },
  "cells": [
    {
      "cell_type": "code",
      "metadata": {
        "id": "DOaQoFHYC73u",
        "colab_type": "code",
        "colab": {}
      },
      "source": [
        "import numpy as np\n",
        "from sklearn.svm import SVC\n",
        "import matplotlib.pyplot as plt"
      ],
      "execution_count": 0,
      "outputs": []
    },
    {
      "cell_type": "code",
      "metadata": {
        "id": "zviVpwMOC730",
        "colab_type": "code",
        "colab": {}
      },
      "source": [
        "X = np.array([[1,1],[2,1],[1,2],[1.5,1.5],[3,4],[2,5],[4,3],[7,2],[3,5],[2,6],[6,2],[3,4],[4,4]])\n",
        "y = [0,0,0,0,1,1,1,1,1,1,1,1,1]"
      ],
      "execution_count": 0,
      "outputs": []
    },
    {
      "cell_type": "code",
      "metadata": {
        "id": "WKLIqrkaC734",
        "colab_type": "code",
        "colab": {
          "base_uri": "https://localhost:8080/",
          "height": 265
        },
        "outputId": "bfa39bb9-ae6f-489b-e170-2e516f00cf5a"
      },
      "source": [
        "X_x1 = X[:,0]\n",
        "X_x2 = X[:,1]\n",
        "plt.scatter(X_x1, X_x2, c = y)\n",
        "plt.show()"
      ],
      "execution_count": 7,
      "outputs": [
        {
          "output_type": "display_data",
          "data": {
            "image/png": "[encoded data removed]",
            "text/plain": [
              "<Figure size 432x288 with 1 Axes>"
            ]
          },
          "metadata": {
            "tags": [],
            "needs_background": "light"
          }
        }
      ]
    },
    {
      "cell_type": "code",
      "metadata": {
        "id": "FD0jyG4_C738",
        "colab_type": "code",
        "colab": {
          "base_uri": "https://localhost:8080/",
          "height": 34
        },
        "outputId": "58e1465e-b8c2-435f-b595-11c4b2eacdd6"
      },
      "source": [
        "svcLinear =  SVC(kernel='linear', C=1).fit(X, y)\n",
        "svcLinear.coef_, svcLinear.intercept_"
      ],
      "execution_count": 9,
      "outputs": [
        {
          "output_type": "execute_result",
          "data": {
            "text/plain": [
              "(array([[0.49989823, 0.49989823]]), array([-2.49953185]))"
            ]
          },
          "metadata": {
            "tags": []
          },
          "execution_count": 9
        }
      ]
    },
    {
      "cell_type": "code",
      "metadata": {
        "id": "37_Oh5BQC74A",
        "colab_type": "code",
        "colab": {
          "base_uri": "https://localhost:8080/",
          "height": 269
        },
        "outputId": "9666b3f4-9126-453d-f247-cba4c008b346"
      },
      "source": [
        "x1 = np.array([0, 5])\n",
        "x2 = -1 *(svcLinear.intercept_ + svcLinear.coef_[0][0] * x1)/svcLinear.coef_[0][1]\n",
        "plt.plot(x1, x2)\n",
        "plt.scatter(X_x1, X_x2, c = y)\n",
        "plt.axis([0, 8, 0, 8])\n",
        "plt.show()"
      ],
      "execution_count": 11,
      "outputs": [
        {
          "output_type": "display_data",
          "data": {
            "image/png": "[encoded data removed]",
            "text/plain": [
              "<Figure size 432x288 with 1 Axes>"
            ]
          },
          "metadata": {
            "tags": [],
            "needs_background": "light"
          }
        }
      ]
    },
    {
      "cell_type": "code",
      "metadata": {
        "id": "vJpeaUU9D3-S",
        "colab_type": "code",
        "colab": {}
      },
      "source": [
        "X = np.array([[1,1],[2,1],[1,2],[1.5,1.5],[3,4],[2,5],[4,3],[7,2],[3,5],[2,6],[6,2],[3,4],[4,4]])\n",
        "y = [0,1,0,0,1,1,1,1,1,1,1,1,1]"
      ],
      "execution_count": 0,
      "outputs": []
    },
    {
      "cell_type": "code",
      "metadata": {
        "id": "GgQWpGAID-SX",
        "colab_type": "code",
        "colab": {
          "base_uri": "https://localhost:8080/",
          "height": 265
        },
        "outputId": "4ea981b4-05d7-4223-b5bb-16e35c21c4d9"
      },
      "source": [
        "X_x1 = X[:,0]\n",
        "X_x2 = X[:,1]\n",
        "plt.scatter(X_x1, X_x2, c = y)\n",
        "plt.show()"
      ],
      "execution_count": 13,
      "outputs": [
        {
          "output_type": "display_data",
          "data": {
            "image/png": "[encoded data removed]",
            "text/plain": [
              "<Figure size 432x288 with 1 Axes>"
            ]
          },
          "metadata": {
            "tags": [],
            "needs_background": "light"
          }
        }
      ]
    },
    {
      "cell_type": "code",
      "metadata": {
        "id": "frBcKa4XDygR",
        "colab_type": "code",
        "colab": {
          "base_uri": "https://localhost:8080/",
          "height": 34
        },
        "outputId": "fffef2a2-d4aa-450a-dbc9-0c239f765404"
      },
      "source": [
        "svcLinear =  SVC(kernel='linear', C=1000).fit(X, y)\n",
        "svcLinear.coef_, svcLinear.intercept_"
      ],
      "execution_count": 25,
      "outputs": [
        {
          "output_type": "execute_result",
          "data": {
            "text/plain": [
              "(array([[3.99804688, 0.        ]]), array([-6.99633789]))"
            ]
          },
          "metadata": {
            "tags": []
          },
          "execution_count": 25
        }
      ]
    },
    {
      "cell_type": "code",
      "metadata": {
        "id": "TJ2xxPpCDtH7",
        "colab_type": "code",
        "colab": {
          "base_uri": "https://localhost:8080/",
          "height": 323
        },
        "outputId": "18143801-e4a8-4052-acc1-4585f22ee356"
      },
      "source": [
        "x1 = np.array([0, 5])\n",
        "x2 = -1 *(svcLinear.intercept_ + svcLinear.coef_[0][0] * x1)/svcLinear.coef_[0][1]\n",
        "plt.plot(x1, x2)\n",
        "plt.scatter(X_x1, X_x2, c = y)\n",
        "plt.axis([0, 8, 0, 8])\n",
        "plt.show()"
      ],
      "execution_count": 26,
      "outputs": [
        {
          "output_type": "stream",
          "text": [
            "/usr/local/lib/python3.6/dist-packages/ipykernel_launcher.py:2: RuntimeWarning: divide by zero encountered in true_divide\n",
            "  \n"
          ],
          "name": "stderr"
        },
        {
          "output_type": "display_data",
          "data": {
            "image/png": "[encoded data removed]",
            "text/plain": [
              "<Figure size 432x288 with 1 Axes>"
            ]
          },
          "metadata": {
            "tags": [],
            "needs_background": "light"
          }
        }
      ]
    },
    {
      "cell_type": "markdown",
      "metadata": {
        "id": "QQ_2EFpyFLVH",
        "colab_type": "text"
      },
      "source": [
        "# Decision Boundary\n",
        "#### Add checkpoint how l1, l2, l3 are similarity function feature to figure out the boundary (Unlike in KNN, in SVM how much far away is a data point from a landmark also matters.) \n",
        "###### IF N is number of data points and m is the number of feaeture"
      ]
    },
    {
      "cell_type": "code",
      "metadata": {
        "id": "KcmeiCKuFKSF",
        "colab_type": "code",
        "colab": {}
      },
      "source": [
        ""
      ],
      "execution_count": 0,
      "outputs": []
    }
  ]
}