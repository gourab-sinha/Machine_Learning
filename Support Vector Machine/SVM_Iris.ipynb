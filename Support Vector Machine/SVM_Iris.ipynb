{
  "nbformat": 4,
  "nbformat_minor": 0,
  "metadata": {
    "kernelspec": {
      "display_name": "Python 3",
      "language": "python",
      "name": "python3"
    },
    "language_info": {
      "codemirror_mode": {
        "name": "ipython",
        "version": 3
      },
      "file_extension": ".py",
      "mimetype": "text/x-python",
      "name": "python",
      "nbconvert_exporter": "python",
      "pygments_lexer": "ipython3",
      "version": "3.6.3"
    },
    "colab": {
      "name": "SVM-Iris.ipynb",
      "provenance": []
    }
  },
  "cells": [
    {
      "cell_type": "code",
      "metadata": {
        "id": "5luUKCFdKi4F",
        "colab_type": "code",
        "colab": {}
      },
      "source": [
        "from sklearn import svm, datasets\n",
        "import numpy as np\n",
        "from sklearn.model_selection import train_test_split\n",
        "import matplotlib.pyplot as plt"
      ],
      "execution_count": 0,
      "outputs": []
    },
    {
      "cell_type": "code",
      "metadata": {
        "id": "bEW9SFUJKi4K",
        "colab_type": "code",
        "colab": {}
      },
      "source": [
        "iris = datasets.load_iris()\n",
        "x = iris.data[:, 0:2]\n",
        "y = iris.target"
      ],
      "execution_count": 0,
      "outputs": []
    },
    {
      "cell_type": "code",
      "metadata": {
        "id": "7cTQOqPGKi4N",
        "colab_type": "code",
        "colab": {}
      },
      "source": [
        "x_train,x_test, y_train, y_test = train_test_split(x, y)"
      ],
      "execution_count": 0,
      "outputs": []
    },
    {
      "cell_type": "code",
      "metadata": {
        "id": "YCxzokOPKi4S",
        "colab_type": "code",
        "colab": {
          "base_uri": "https://localhost:8080/",
          "height": 85
        },
        "outputId": "abb3eac8-9bfb-4700-b2c1-445d4e271c08"
      },
      "source": [
        "clf = svm.SVC(kernel = 'linear')\n",
        "clf.fit(x_train, y_train)"
      ],
      "execution_count": 4,
      "outputs": [
        {
          "output_type": "execute_result",
          "data": {
            "text/plain": [
              "SVC(C=1.0, break_ties=False, cache_size=200, class_weight=None, coef0=0.0,\n",
              "    decision_function_shape='ovr', degree=3, gamma='scale', kernel='linear',\n",
              "    max_iter=-1, probability=False, random_state=None, shrinking=True,\n",
              "    tol=0.001, verbose=False)"
            ]
          },
          "metadata": {
            "tags": []
          },
          "execution_count": 4
        }
      ]
    },
    {
      "cell_type": "code",
      "metadata": {
        "id": "sR2bpdl3Ki4Y",
        "colab_type": "code",
        "colab": {
          "base_uri": "https://localhost:8080/",
          "height": 34
        },
        "outputId": "89b13a86-426c-4989-dd16-e38c87e4e11d"
      },
      "source": [
        "clf.score(x_test, y_test)"
      ],
      "execution_count": 5,
      "outputs": [
        {
          "output_type": "execute_result",
          "data": {
            "text/plain": [
              "0.8157894736842105"
            ]
          },
          "metadata": {
            "tags": []
          },
          "execution_count": 5
        }
      ]
    },
    {
      "cell_type": "code",
      "metadata": {
        "id": "SlEnvaSKKi4b",
        "colab_type": "code",
        "colab": {}
      },
      "source": [
        "def makegrid(x1, x2, h = 0.02):\n",
        "    x1_min, x1_max = x1.min() - 1, x1.max() + 1\n",
        "    x2_min, x2_max = x2.min() - 1, x2.max() + 1\n",
        "    a = np.arange(x1_min,x1_max,h)\n",
        "    b = np.arange(x2_min, x2_max, h)\n",
        "    xx, yy = np.meshgrid(a, b)\n",
        "    return xx, yy"
      ],
      "execution_count": 0,
      "outputs": []
    },
    {
      "cell_type": "code",
      "metadata": {
        "id": "0yy_z1tpKi4e",
        "colab_type": "code",
        "colab": {
          "base_uri": "https://localhost:8080/",
          "height": 265
        },
        "outputId": "174da3e0-5294-48cf-ccdd-1a2019dd34ea"
      },
      "source": [
        "xx, yy = makegrid(x[:, 0], x[:, 1])\n",
        "predictions = clf.predict(np.c_[xx.ravel(), yy.ravel()])\n",
        "plt.scatter(xx.ravel(), yy.ravel(), c = predictions)\n",
        "plt.show()"
      ],
      "execution_count": 7,
      "outputs": [
        {
          "output_type": "display_data",
          "data": {
            "image/png": "[encoded data removed]",
            "text/plain": [
              "<Figure size 432x288 with 1 Axes>"
            ]
          },
          "metadata": {
            "tags": [],
            "needs_background": "light"
          }
        }
      ]
    }
  ]
}